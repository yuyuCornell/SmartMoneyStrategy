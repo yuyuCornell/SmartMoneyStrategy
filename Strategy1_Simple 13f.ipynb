{
 "cells": [
  {
   "cell_type": "code",
   "execution_count": 1,
   "id": "752f2a34",
   "metadata": {},
   "outputs": [],
   "source": [
    "import pandas as pd\n",
    "import numpy as np\n",
    "import matplotlib.pyplot as plt"
   ]
  },
  {
   "cell_type": "code",
   "execution_count": 2,
   "id": "fcd7c836",
   "metadata": {},
   "outputs": [
    {
     "name": "stderr",
     "output_type": "stream",
     "text": [
      "C:\\Users\\19842\\AppData\\Local\\Temp\\ipykernel_35768\\1168696831.py:1: DtypeWarning: Columns (1) have mixed types. Specify dtype option on import or set low_memory=False.\n",
      "  data = pd.read_csv('cleaned_filtered_data.csv')\n"
     ]
    }
   ],
   "source": [
    "data = pd.read_csv('cleaned_filtered_data.csv')"
   ]
  },
  {
   "cell_type": "code",
   "execution_count": 3,
   "id": "70e81241",
   "metadata": {},
   "outputs": [
    {
     "name": "stdout",
     "output_type": "stream",
     "text": [
      "   iCIK     iCUSIP pSP_TICKER iPERIOD_END      iQTY  iMARKET_VALUE  \\\n",
      "0  2230  20030N101      CMCSA  2013-09-30  452300.0     20421000.0   \n",
      "1  3520  20030N101      CMCSA  2013-09-30    5425.0       245000.0   \n",
      "2  5272  20030N101      CMCSA  2013-09-30    4084.0       184262.0   \n",
      "3  7789  20030N101      CMCSA  2013-09-30   26020.0      1174000.0   \n",
      "4  8565  20030N101      CMCSA  2013-09-30  207888.0      9379000.0   \n",
      "\n",
      "   iLONG_FRACTION  pSP_VOLUME  pSP_OPEN  pSP_HIGH  pSP_LOW  pSP_CLOSE  \\\n",
      "0        0.015565    36443680    22.115    22.655   22.115    22.5575   \n",
      "1        0.000047    36443680    22.115    22.655   22.115    22.5575   \n",
      "2        0.000002    36443680    22.115    22.655   22.115    22.5575   \n",
      "3        0.007314    36443680    22.115    22.655   22.115    22.5575   \n",
      "4        0.001936    36443680    22.115    22.655   22.115    22.5575   \n",
      "\n",
      "   daily_return    return  average_volume  volatility      turnover  \\\n",
      "0      0.020009  0.151834      36443680.0    0.003311  43920.843506   \n",
      "1      0.020009  0.151834      36443680.0    0.003311  43920.843506   \n",
      "2      0.020009  0.151834      36443680.0    0.003311  43920.843506   \n",
      "3      0.020009  0.151834      36443680.0    0.003311  43920.843506   \n",
      "4      0.020009  0.151834      36443680.0    0.003311  43920.843506   \n",
      "\n",
      "     market_cap  \n",
      "0  1.020276e+07  \n",
      "1  1.223744e+05  \n",
      "2  9.212483e+04  \n",
      "3  5.869462e+05  \n",
      "4  4.689434e+06  \n"
     ]
    }
   ],
   "source": [
    "print(data.head())"
   ]
  },
  {
   "cell_type": "code",
   "execution_count": 4,
   "id": "5fa928af",
   "metadata": {},
   "outputs": [
    {
     "data": {
      "text/plain": [
       "(15017921, 18)"
      ]
     },
     "execution_count": 4,
     "metadata": {},
     "output_type": "execute_result"
    }
   ],
   "source": [
    "data.shape"
   ]
  },
  {
   "cell_type": "markdown",
   "id": "dd382045",
   "metadata": {},
   "source": [
    "### Simple Strategy, hold the most holdings from the last Quarter as the holding for next quarter"
   ]
  },
  {
   "cell_type": "code",
   "execution_count": 5,
   "id": "8679ec3e",
   "metadata": {},
   "outputs": [],
   "source": [
    "data[\"iPERIOD_END\"] = pd.to_datetime(data[\"iPERIOD_END\"])\n",
    "\n",
    "# Preprocess data\n",
    "quarters = data[\"iPERIOD_END\"].unique()\n",
    "quarters.sort()\n",
    "\n",
    "# Initialize an empty DataFrame to store the selected stocks and their performance\n",
    "selected_stocks = pd.DataFrame(columns=data.columns)\n",
    "\n",
    "# Initialize a list to store the quarterly PnL\n",
    "pnl = []"
   ]
  },
  {
   "cell_type": "code",
   "execution_count": 6,
   "id": "133c4309",
   "metadata": {},
   "outputs": [
    {
     "name": "stdout",
     "output_type": "stream",
     "text": [
      "the average return of this quarter is -0.17867890762369418\n",
      "the average return of this quarter is -0.27555621027199856\n",
      "the average return of this quarter is -0.23973192479953911\n",
      "the average return of this quarter is -0.24929218496212316\n",
      "the average return of this quarter is -0.11216507382053217\n",
      "the average return of this quarter is -0.11324399494310997\n",
      "the average return of this quarter is -0.468986093814861\n",
      "the average return of this quarter is 0.10167904944793825\n",
      "the average return of this quarter is 0.5881008574218571\n",
      "the average return of this quarter is 0.11262288012618683\n",
      "the average return of this quarter is 0.5502686108979279\n",
      "the average return of this quarter is -0.0035762904047668092\n",
      "the average return of this quarter is 0.5367072315823469\n",
      "the average return of this quarter is 2.2562484675528167\n"
     ]
    }
   ],
   "source": [
    "# Create an empty DataFrame to store the selected stocks\n",
    "selected_stocks = pd.DataFrame(columns=data.columns)\n",
    "\n",
    "# Initialize the pnl and quarters_with_data lists\n",
    "pnl = []\n",
    "quarters_with_data = []\n",
    "\n",
    "# Loop over quarters\n",
    "for i in range(1, len(quarters)):\n",
    "    # Get the data for the previous quarter\n",
    "    prev_quarter = data[data[\"iPERIOD_END\"] == quarters[i - 1]]\n",
    "    \n",
    "    # Get the top 100 stocks based on high return and high market value\n",
    "    top100 = prev_quarter.sort_values([\"return\"],\n",
    "                                      ascending=[False]).head(50)\n",
    "    \n",
    "    # Get the data for the current quarter\n",
    "    curr_quarter = data[data[\"iPERIOD_END\"] == quarters[i]]\n",
    "    \n",
    "    # Merge the top 100 stocks with the current quarter data\n",
    "    merged_data = top100.merge(curr_quarter, on=[\"iCUSIP\", \"iCIK\"])\n",
    "    \n",
    "    # Check if there is any matching data for the current quarter\n",
    "    if not merged_data.empty:\n",
    "        # Calculate the average return for the current quarter\n",
    "        avg_return = merged_data[\"return_y\"].mean()\n",
    "        print(f\"the average return of this quarter is {avg_return}\")\n",
    "        pnl.append(avg_return)\n",
    "        \n",
    "        # Append the selected stocks to the main DataFrame\n",
    "        selected_stocks = pd.concat([selected_stocks, merged_data], ignore_index=True)\n",
    "        \n",
    "        # Append the current quarter to the quarters_with_data list\n",
    "        quarters_with_data.append(quarters[i])\n",
    "\n",
    "# Calculate the cumulative return\n",
    "cumulative_return = (1 + np.array(pnl)).cumprod()"
   ]
  },
  {
   "cell_type": "code",
   "execution_count": 7,
   "id": "495994af",
   "metadata": {},
   "outputs": [
    {
     "name": "stdout",
     "output_type": "stream",
     "text": [
      "[0.82132109 0.59500096 0.45236024 0.33959037 0.30150019 0.2673571\n",
      " 0.14197034 0.15640575 0.2483881  0.27636229 0.42843578 0.42690357\n",
      " 0.6560258  2.136183  ]\n"
     ]
    }
   ],
   "source": [
    "print(cumulative_return)"
   ]
  },
  {
   "cell_type": "code",
   "execution_count": 9,
   "id": "dbb507fe",
   "metadata": {},
   "outputs": [
    {
     "data": {
      "image/png": "[encoded data removed]",
      "text/plain": [
       "<Figure size 432x288 with 1 Axes>"
      ]
     },
     "metadata": {
      "needs_background": "light"
     },
     "output_type": "display_data"
    }
   ],
   "source": [
    "# Plot the cumulative return\n",
    "plt.plot(quarters_with_data, cumulative_return)\n",
    "plt.xlabel(\"Quarter\")\n",
    "plt.ylabel(\"Cumulative Return\")\n",
    "plt.title(\"Envolving of Portfolio value in Percentage\")\n",
    "plt.show()"
   ]
  },
  {
   "cell_type": "markdown",
   "id": "d0645cf0",
   "metadata": {},
   "source": [
    "### Bad performance, highly unstable, try to use ML models"
   ]
  }
 ],
 "metadata": {
  "kernelspec": {
   "display_name": "Python 3 (ipykernel)",
   "language": "python",
   "name": "python3"
  },
  "language_info": {
   "codemirror_mode": {
    "name": "ipython",
    "version": 3
   },
   "file_extension": ".py",
   "mimetype": "text/x-python",
   "name": "python",
   "nbconvert_exporter": "python",
   "pygments_lexer": "ipython3",
   "version": "3.9.12"
  },
  "varInspector": {
   "cols": {
    "lenName": 16,
    "lenType": 16,
    "lenVar": 40
   },
   "kernels_config": {
    "python": {
     "delete_cmd_postfix": "",
     "delete_cmd_prefix": "del ",
     "library": "var_list.py",
     "varRefreshCmd": "print(var_dic_list())"
    },
    "r": {
     "delete_cmd_postfix": ") ",
     "delete_cmd_prefix": "rm(",
     "library": "var_list.r",
     "varRefreshCmd": "cat(var_dic_list()) "
    }
   },
   "types_to_exclude": [
    "module",
    "function",
    "builtin_function_or_method",
    "instance",
    "_Feature"
   ],
   "window_display": false
  }
 },
 "nbformat": 4,
 "nbformat_minor": 5
}
